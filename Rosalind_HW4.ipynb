{
 "cells": [
  {
   "cell_type": "code",
   "execution_count": null,
   "metadata": {},
   "outputs": [],
   "source": [
    "# Rosalind / FIB\n",
    "\n",
    "with open('/Users/Shared/Rosalind/rosalind_fib.txt', 'r') as my_file:\n",
    "    l = list(map(int,my_file.read().split()))\n",
    "    N, k = l[0], l[1]\n",
    "    \n",
    "    rabbits, parents = 1, 1\n",
    "\n",
    "    if N > 2:\n",
    "        for i in range(3,N+1):\n",
    "            sons = parents * k\n",
    "            rabbits, parents = rabbits + sons, rabbits\n",
    "\n",
    "    print(rabbits)"
   ]
  },
  {
   "cell_type": "code",
   "execution_count": null,
   "metadata": {},
   "outputs": [],
   "source": [
    "# Rosalind / HAMM\n",
    "\n",
    "with open('/Users/Shared/Rosalind/rosalind_hamm.txt', 'r') as my_file:\n",
    "    l = my_file.read().split()\n",
    "    s1, s2 = l[0], l[1] \n",
    "    d = 0\n",
    "\n",
    "    d = sum(x != y for x, y in zip(s1, s2))\n",
    "\n",
    "    print(d)"
   ]
  },
  {
   "cell_type": "code",
   "execution_count": null,
   "metadata": {},
   "outputs": [],
   "source": [
    "# Rosalind / FIBD\n",
    "\n",
    "with open('/Users/Shared/Rosalind/rosalind_fibd.txt', 'r') as my_file:\n",
    "    l = list(map(int,my_file.read().split()))\n",
    "    N, m = l[0], l[1]\n",
    "    \n",
    "    rabbits, parents = 1, 1\n",
    "    l1 = [1,0]\n",
    "\n",
    "    for i in range(3,N+1):\n",
    "        sons = parents\n",
    "        parents = rabbits\n",
    "        rabbits += sons\n",
    "        l1.append(sons)\n",
    "\n",
    "        if i - m > 0:\n",
    "            parents, rabbits = parents - l1[i - m - 1], rabbits - l1[i - m - 1]\n",
    "\n",
    "    print(rabbits)"
   ]
  },
  {
   "cell_type": "code",
   "execution_count": null,
   "metadata": {},
   "outputs": [],
   "source": [
    "# Rosalind / PROT\n",
    "\n",
    "import re\n",
    "with open('/Users/Shared/Rosalind/rosalind_prot.txt', 'r') as my_file:\n",
    "    s,l = str(my_file.read()), []\n",
    "    \n",
    "    prot = ['UUU','F','CUU','L','AUU','I','GUU','V','UUC','F',\\\n",
    "            'CUC','L','AUC','I','GUC','V','UUA','L','CUA','L',\\\n",
    "            'AUA','I','GUA','V','UUG','L','CUG','L','AUG','M',\\\n",
    "            'GUG','V','UCU','S','CCU','P','ACU','T','GCU','A',\\\n",
    "            'UCC','S','CCC','P','ACC','T','GCC','A','UCA','S',\\\n",
    "            'CCA','P','ACA','T','GCA','A','UCG','S','CCG','P',\\\n",
    "            'ACG','T','GCG','A','UAU','Y','CAU','H','AAU','N',\\\n",
    "            'GAU','D','UAC','Y','CAC','H','AAC','N','GAC','D',\\\n",
    "            'CAA','Q','AAA','K','GAA','E','CAG','Q','AAG','K',\\\n",
    "            'GAG','E','UGU','C','CGU','R','AGU','S','GGU','G',\\\n",
    "            'UGC','C','CGC','R','AGC','S','GGC','G','CGA','R',\\\n",
    "            'AGA','R','GGA','G','UGG','W','CGG','R','AGG','R',\\\n",
    "            'GGG','G','UAA','Stop','UAG','Stop','UGA','Stop']\n",
    "    prot_dct = {prot[i]: prot[i + 1] for i in range(0, len(prot), 2)}\n",
    "    \n",
    "    codons = re.findall(r'...', s)\n",
    "    l = [prot_dct[x] for x in codons]\n",
    "    \n",
    "    print(''.join(l).rstrip('Stop'))"
   ]
  }
 ],
 "metadata": {
  "kernelspec": {
   "display_name": "Python 3.10.8 ('base')",
   "language": "python",
   "name": "python3"
  },
  "language_info": {
   "codemirror_mode": {
    "name": "ipython",
    "version": 3
   },
   "file_extension": ".py",
   "mimetype": "text/x-python",
   "name": "python",
   "nbconvert_exporter": "python",
   "pygments_lexer": "ipython3",
   "version": "3.10.8 | packaged by conda-forge | (main, Nov 22 2022, 08:31:57) [Clang 14.0.6 ]"
  },
  "orig_nbformat": 4,
  "vscode": {
   "interpreter": {
    "hash": "f65f3cb3b0b5b9cf38a913073c3e32224dccd06969203404ec8b5bcbe21168df"
   }
  }
 },
 "nbformat": 4,
 "nbformat_minor": 2
}
