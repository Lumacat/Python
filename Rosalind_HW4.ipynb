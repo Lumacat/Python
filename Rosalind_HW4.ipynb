{
 "cells": [
  {
   "cell_type": "code",
   "execution_count": null,
   "metadata": {},
   "outputs": [],
   "source": [
    "# Rosalind / FIB\n",
    "\n",
    "with open('/Users/Shared/Rosalind/rosalind_fib.txt', 'r') as my_file:\n",
    "    l = list(map(int,my_file.read().split()))\n",
    "    N, k = l[0], l[1]\n",
    "    \n",
    "    rabbits, parents = 1, 1\n",
    "\n",
    "    if N > 2:\n",
    "        for i in range(3,N+1):\n",
    "            sons = parents * k\n",
    "            rabbits, parents = rabbits + sons, rabbits\n",
    "\n",
    "    print(rabbits)"
   ]
  },
  {
   "cell_type": "code",
   "execution_count": null,
   "metadata": {},
   "outputs": [],
   "source": [
    "# Rosalind / HAMM\n",
    "\n",
    "with open('/Users/Shared/Rosalind/rosalind_hamm.txt', 'r') as my_file:\n",
    "    l = my_file.read().split()\n",
    "    s1, s2 = l[0], l[1] \n",
    "    d = 0\n",
    "\n",
    "    d = sum(x != y for x, y in zip(s1, s2))\n",
    "\n",
    "    print(d)"
   ]
  }
 ],
 "metadata": {
  "kernelspec": {
   "display_name": "Python 3.10.8 ('base')",
   "language": "python",
   "name": "python3"
  },
  "language_info": {
   "codemirror_mode": {
    "name": "ipython",
    "version": 3
   },
   "file_extension": ".py",
   "mimetype": "text/x-python",
   "name": "python",
   "nbconvert_exporter": "python",
   "pygments_lexer": "ipython3",
   "version": "3.10.8 | packaged by conda-forge | (main, Nov 22 2022, 08:31:57) [Clang 14.0.6 ]"
  },
  "orig_nbformat": 4,
  "vscode": {
   "interpreter": {
    "hash": "f65f3cb3b0b5b9cf38a913073c3e32224dccd06969203404ec8b5bcbe21168df"
   }
  }
 },
 "nbformat": 4,
 "nbformat_minor": 2
}
