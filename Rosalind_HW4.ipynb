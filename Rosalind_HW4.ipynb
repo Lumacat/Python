{
 "cells": [
  {
   "cell_type": "code",
   "execution_count": null,
   "metadata": {},
   "outputs": [],
   "source": [
    "# Rosalind / FIB\n",
    "with open('/Users/Shared/Rosalind/rosalind_fib.txt', 'r') as my_file:\n",
    "    l = list(map(int,my_file.read().split()))\n",
    "    N, k = l[0], l[1]\n",
    "    \n",
    "    rabbits, parents = 1, 1\n",
    "\n",
    "    if N > 2:\n",
    "        for i in range(3,N+1):\n",
    "            sons = parents * k\n",
    "            parents = rabbits\n",
    "            rabbits += sons\n",
    "\n",
    "    print(rabbits)"
   ]
  },
  {
   "cell_type": "code",
   "execution_count": null,
   "metadata": {},
   "outputs": [],
   "source": [
    "# Rosalind / HAMM\n",
    "\n",
    "with open('/Users/Shared/Rosalind/rosalind_hamm.txt', 'r') as my_file:\n",
    "    l = my_file.read().split()\n",
    "    s1, s2 = l[0], l[1]\n",
    "    d = 0\n",
    "\n",
    "    for i in range(len(s1)):\n",
    "        if s1[i] != s2[i]:\n",
    "            d +=1\n",
    "\n",
    "    print(d)"
   ]
  },
  {
   "cell_type": "code",
   "execution_count": null,
   "metadata": {},
   "outputs": [],
   "source": [
    "# Rosalind / FIBD\n",
    "\n",
    "with open('/Users/Shared/Rosalind/rosalind_fibd.txt', 'r') as my_file:\n",
    "    l = list(map(int,my_file.read().split()))\n",
    "    N, m = l[0], l[1]\n",
    "    \n",
    "    rabbits, parents = 1, 1\n",
    "    l1 = [1,0]\n",
    "\n",
    "    for i in range(3,N+1):\n",
    "        sons = parents\n",
    "        parents = rabbits\n",
    "        rabbits += sons\n",
    "        l1.append(sons)\n",
    "\n",
    "        if i - m > 0:\n",
    "            parents -= l1[0]\n",
    "            rabbits -= l1[0]\n",
    "            del l1[0]\n",
    "\n",
    "    print(rabbits)"
   ]
  }
 ],
 "metadata": {
  "language_info": {
   "name": "python"
  },
  "orig_nbformat": 4
 },
 "nbformat": 4,
 "nbformat_minor": 2
}
