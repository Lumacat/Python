{
 "cells": [
  {
   "cell_type": "code",
   "execution_count": null,
   "metadata": {},
   "outputs": [],
   "source": [
    "# Rosalind / FIB\n",
    "\n",
    "with open('/Users/Shared/Rosalind/rosalind_fib.txt', 'r') as my_file:\n",
    "    l = list(map(int,my_file.read().split()))\n",
    "    N, k = l[0], l[1]\n",
    "    \n",
    "    rabbits, parents = 1, 1\n",
    "\n",
    "    if N > 2:\n",
    "        for i in range(3,N+1):\n",
    "            sons = parents * k\n",
    "            rabbits, parents = rabbits + sons, rabbits\n",
    "\n",
    "    print(rabbits)"
   ]
  },
  {
   "cell_type": "code",
   "execution_count": null,
   "metadata": {},
   "outputs": [],
   "source": [
    "# Rosalind / HAMM\n",
    "\n",
    "with open('/Users/Shared/Rosalind/rosalind_hamm.txt', 'r') as my_file:\n",
    "    l = my_file.read().split()\n",
    "    s1, s2 = l[0], l[1] \n",
    "    d = 0\n",
    "\n",
    "    d = sum(x != y for x, y in zip(s1, s2))\n",
    "\n",
    "    print(d)"
   ]
  },
  {
   "cell_type": "code",
   "execution_count": null,
   "metadata": {},
   "outputs": [],
   "source": [
    "# Rosalind / FIBD\n",
    "\n",
    "with open('/Users/Shared/Rosalind/rosalind_fibd.txt', 'r') as my_file:\n",
    "    l = list(map(int,my_file.read().split()))\n",
    "    N, m = l[0], l[1]\n",
    "    \n",
    "    rabbits, parents = 1, 1\n",
    "    l1 = [1,0]\n",
    "\n",
    "    for i in range(3,N+1):\n",
    "        sons = parents\n",
    "        parents = rabbits\n",
    "        rabbits += sons\n",
    "        l1.append(sons)\n",
    "\n",
    "        if i - m > 0:\n",
    "            parents, rabbits = parents - l1[i - m - 1], rabbits - l1[i - m - 1]\n",
    "\n",
    "    print(rabbits)"
   ]
  },
  {
   "cell_type": "code",
   "execution_count": null,
   "metadata": {},
   "outputs": [],
   "source": [
    "# Rosalind / PROT\n",
    "\n",
    "import re\n",
    "with open('/Users/Shared/Rosalind/rosalind_prot.txt', 'r') as my_file:\n",
    "    s,l = str(my_file.read()), []\n",
    "    \n",
    "    prot = ['UUU','F','CUU','L','AUU','I','GUU','V','UUC','F',\\\n",
    "            'CUC','L','AUC','I','GUC','V','UUA','L','CUA','L',\\\n",
    "            'AUA','I','GUA','V','UUG','L','CUG','L','AUG','M',\\\n",
    "            'GUG','V','UCU','S','CCU','P','ACU','T','GCU','A',\\\n",
    "            'UCC','S','CCC','P','ACC','T','GCC','A','UCA','S',\\\n",
    "            'CCA','P','ACA','T','GCA','A','UCG','S','CCG','P',\\\n",
    "            'ACG','T','GCG','A','UAU','Y','CAU','H','AAU','N',\\\n",
    "            'GAU','D','UAC','Y','CAC','H','AAC','N','GAC','D',\\\n",
    "            'CAA','Q','AAA','K','GAA','E','CAG','Q','AAG','K',\\\n",
    "            'GAG','E','UGU','C','CGU','R','AGU','S','GGU','G',\\\n",
    "            'UGC','C','CGC','R','AGC','S','GGC','G','CGA','R',\\\n",
    "            'AGA','R','GGA','G','UGG','W','CGG','R','AGG','R',\\\n",
    "            'GGG','G','UAA','Stop','UAG','Stop','UGA','Stop']\n",
    "            \n",
    "    prot_dct = {prot[i]: prot[i + 1] for i in range(0, len(prot), 2)}\n",
    "    \n",
    "    codons = re.findall(r'...', s)\n",
    "    l = [prot_dct[x] for x in codons]\n",
    "    \n",
    "    print(''.join(l).rstrip('Stop'))"
   ]
  },
  {
   "cell_type": "code",
   "execution_count": null,
   "metadata": {},
   "outputs": [],
   "source": [
    "# Rosalind / MRNA\n",
    "\n",
    "import math\n",
    "with open('/Users/Shared/Rosalind/rosalind_mrna.txt', 'r') as my_file:\n",
    "    s = str(my_file.read().strip('\\n'))\n",
    "    \n",
    "    prot = ['UUU','F','CUU','L','AUU','I','GUU','V','UUC','F',\\\n",
    "            'CUC','L','AUC','I','GUC','V','UUA','L','CUA','L',\\\n",
    "            'AUA','I','GUA','V','UUG','L','CUG','L','AUG','M',\\\n",
    "            'GUG','V','UCU','S','CCU','P','ACU','T','GCU','A',\\\n",
    "            'UCC','S','CCC','P','ACC','T','GCC','A','UCA','S',\\\n",
    "            'CCA','P','ACA','T','GCA','A','UCG','S','CCG','P',\\\n",
    "            'ACG','T','GCG','A','UAU','Y','CAU','H','AAU','N',\\\n",
    "            'GAU','D','UAC','Y','CAC','H','AAC','N','GAC','D',\\\n",
    "            'CAA','Q','AAA','K','GAA','E','CAG','Q','AAG','K',\\\n",
    "            'GAG','E','UGU','C','CGU','R','AGU','S','GGU','G',\\\n",
    "            'UGC','C','CGC','R','AGC','S','GGC','G','CGA','R',\\\n",
    "            'AGA','R','GGA','G','UGG','W','CGG','R','AGG','R',\\\n",
    "            'GGG','G','UAA','Stop','UAG','Stop','UGA','Stop']\n",
    "    \n",
    "    mrna = dict()\n",
    "    for i in range(0,len(prot),2):\n",
    "        if prot[i+1] in mrna:\n",
    "            mrna[prot[i+1]].append(prot[i])\n",
    "        else:\n",
    "            mrna[prot[i+1]] = [prot[i]]\n",
    "    \n",
    "    mrna_len = {key: len(value) for key, value in mrna.items()}\n",
    "    \n",
    "    counter_stop = sum(1 for x in prot if x == \"Stop\")\n",
    "    \n",
    "    print(math.prod([mrna_len[x] for x in s]) % 1000000 * counter_stop)"
   ]
  },
  {
   "cell_type": "code",
   "execution_count": null,
   "metadata": {},
   "outputs": [],
   "source": [
    "# Rosalind / PRTM\n",
    "\n",
    "with open('/Users/Shared/Rosalind/rosalind_prtm.txt', 'r') as my_file:\n",
    "    s = str(my_file.read()).rstrip('\\n')\n",
    "    \n",
    "    w = ['A','71.03711','C','103.00919','D','115.02694','E','129.04259',\\\n",
    "         'F','147.06841','G','57.02146','H','137.05891','I','113.08406',\\\n",
    "         'K','128.09496','L','113.08406','M','131.04049','N','114.04293',\\\n",
    "         'P','97.05276','Q','128.05858','R','156.10111','S','87.03203',\\\n",
    "         'T','101.04768','V','99.06841','W','186.07931','Y','163.06333']\n",
    "    \n",
    "    pw = {w[i]: w[i + 1] for i in range(0, len(w), 2)}\n",
    "    \n",
    "    print(sum(float(pw[x]) for x in s))"
   ]
  },
  {
   "cell_type": "code",
   "execution_count": null,
   "metadata": {},
   "outputs": [],
   "source": [
    "# Rosalind / LCSM\n",
    "\n",
    "from Bio import SeqIO\n",
    "with open('/Users/Shared/Rosalind/rosalind_lcsm.txt', 'r') as my_file:\n",
    "    l = [x.seq for x in SeqIO.parse(my_file, 'fasta')]\n",
    "    \n",
    "    s1,s2,s3 = l[0],l[1],l[2]\n",
    "    lcsm = ''\n",
    "    for j in range(len(s1)):\n",
    "        for i in range(j, len(s1)):\n",
    "            sub = s1[j:i+1]\n",
    "            if sub in s2 and sub in s3:\n",
    "                lcsm = max(lcsm, sub, key=len)\n",
    "\n",
    "    print(lcsm)"
   ]
  }
 ],
 "metadata": {
  "kernelspec": {
   "display_name": "Python 3.10.8 ('base')",
   "language": "python",
   "name": "python3"
  },
  "language_info": {
   "codemirror_mode": {
    "name": "ipython",
    "version": 3
   },
   "file_extension": ".py",
   "mimetype": "text/x-python",
   "name": "python",
   "nbconvert_exporter": "python",
   "pygments_lexer": "ipython3",
   "version": "3.10.8 | packaged by conda-forge | (main, Nov 22 2022, 08:31:57) [Clang 14.0.6 ]"
  },
  "orig_nbformat": 4,
  "vscode": {
   "interpreter": {
    "hash": "f65f3cb3b0b5b9cf38a913073c3e32224dccd06969203404ec8b5bcbe21168df"
   }
  }
 },
 "nbformat": 4,
 "nbformat_minor": 2
}
