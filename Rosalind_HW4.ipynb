{
 "cells": [
  {
   "cell_type": "code",
   "execution_count": null,
   "metadata": {},
   "outputs": [],
   "source": [
    "# Rosalind / FIB\n",
    "with open('/Users/Shared/Rosalind/rosalind_fib.txt', 'r') as my_file:\n",
    "    l = list(map(int,my_file.read().split()))\n",
    "    N, k = l[0], l[1]\n",
    "    \n",
    "    rabbits, parents = 1, 1\n",
    "\n",
    "    if N > 2:\n",
    "        for i in range(3,N+1):\n",
    "            sons = parents * k\n",
    "            parents = rabbits\n",
    "            rabbits += sons\n",
    "\n",
    "    print(rabbits)"
   ]
  },
  {
   "cell_type": "code",
   "execution_count": null,
   "metadata": {},
   "outputs": [],
   "source": [
    "# Rosalind / HAMM\n",
    "\n",
    "with open('/Users/Shared/Rosalind/rosalind_hamm.txt', 'r') as my_file:\n",
    "    l = my_file.read().split()\n",
    "    s1, s2 = l[0], l[1]\n",
    "    d = 0\n",
    "\n",
    "    for i in range(len(s1)):\n",
    "        if s1[i] != s2[i]:\n",
    "            d +=1\n",
    "\n",
    "    print(d)"
   ]
  },
  {
   "cell_type": "code",
   "execution_count": null,
   "metadata": {},
   "outputs": [],
   "source": [
    "# Rosalind / FIBD\n",
    "\n",
    "with open('/Users/Shared/Rosalind/rosalind_fibd.txt', 'r') as my_file:\n",
    "    l = list(map(int,my_file.read().split()))\n",
    "    N, m = l[0], l[1]\n",
    "    \n",
    "    rabbits, parents = 1, 1\n",
    "    l1 = [1,0]\n",
    "\n",
    "    for i in range(3,N+1):\n",
    "        sons = parents\n",
    "        parents = rabbits\n",
    "        rabbits += sons\n",
    "        l1.append(sons)\n",
    "\n",
    "        if i - m > 0:\n",
    "            parents -= l1[0]\n",
    "            rabbits -= l1[0]\n",
    "            del l1[0]\n",
    "\n",
    "    print(rabbits)"
   ]
  },
  {
   "cell_type": "code",
   "execution_count": null,
   "metadata": {},
   "outputs": [],
   "source": [
    "# Rosalind / PROT\n",
    "\n",
    "with open('/Users/Shared/Rosalind/rosalind_prot.txt', 'r') as my_file:\n",
    "    s,l = str(my_file.read()), []\n",
    "    \n",
    "    prot = ['UUU','F','CUU','L','AUU','I','GUU','V','UUC','F',\\\n",
    "            'CUC','L','AUC','I','GUC','V','UUA','L','CUA','L',\\\n",
    "            'AUA','I','GUA','V','UUG','L','CUG','L','AUG','M',\\\n",
    "            'GUG','V','UCU','S','CCU','P','ACU','T','GCU','A',\\\n",
    "            'UCC','S','CCC','P','ACC','T','GCC','A','UCA','S',\\\n",
    "            'CCA','P','ACA','T','GCA','A','UCG','S','CCG','P',\\\n",
    "            'ACG','T','GCG','A','UAU','Y','CAU','H','AAU','N',\\\n",
    "            'GAU','D','UAC','Y','CAC','H','AAC','N','GAC','D',\\\n",
    "            'CAA','Q','AAA','K','GAA','E','CAG','Q','AAG','K',\\\n",
    "            'GAG','E','UGU','C','CGU','R','AGU','S','GGU','G',\\\n",
    "            'UGC','C','CGC','R','AGC','S','GGC','G','CGA','R',\\\n",
    "            'AGA','R','GGA','G','UGG','W','CGG','R','AGG','R',\\\n",
    "            'GGG','G','UAA','Stop','UAG','Stop','UGA','Stop']\n",
    "    \n",
    "    prot_dct = {prot[i]: prot[i + 1] for i in range(0, len(prot), 2)}\n",
    "    l = [prot_dct[s[i]+s[i+1]+s[i+2]] for i in range(0,len(s)-1,3)]\n",
    "    \n",
    "    print(''.join(l).rstrip('Stop'))"
   ]
  }
 ],
 "metadata": {
  "kernelspec": {
   "display_name": "Python 3.10.8 ('base')",
   "language": "python",
   "name": "python3"
  },
  "language_info": {
   "name": "python",
   "version": "3.10.8"
  },
  "orig_nbformat": 4,
  "vscode": {
   "interpreter": {
    "hash": "f65f3cb3b0b5b9cf38a913073c3e32224dccd06969203404ec8b5bcbe21168df"
   }
  }
 },
 "nbformat": 4,
 "nbformat_minor": 2
}
