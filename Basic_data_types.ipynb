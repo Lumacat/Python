{
 "cells": [
  {
   "cell_type": "code",
   "execution_count": null,
   "metadata": {},
   "outputs": [],
   "source": [
    "# Basic data types - List comprehension\n",
    "\n",
    "if __name__ == '__main__':\n",
    "    x = int(input())\n",
    "    y = int(input())\n",
    "    z = int(input())\n",
    "    n = int(input())\n",
    "giggino = [[i,j,k] for i in range(x+1) for j in range(y+1) for k in range(z+1) if i+j+k != n]\n",
    "print(giggino)"
   ]
  },
  {
   "cell_type": "code",
   "execution_count": null,
   "metadata": {},
   "outputs": [],
   "source": [
    "# Basic data types - Find the runner-up Score\n",
    "\n",
    "if __name__ == '__main__':\n",
    "    n = int(input())\n",
    "    arr = map(int, input().split())\n",
    "giggino = list(arr)\n",
    "giggetto = [x for x in giggino if x < max(giggino)]\n",
    "print(max(giggetto))"
   ]
  },
  {
   "cell_type": "code",
   "execution_count": null,
   "metadata": {},
   "outputs": [],
   "source": [
    "# Basic data types - Nested lists\n",
    "\n",
    "if __name__ == '__main__':\n",
    "    studenti = []\n",
    "    for _ in range(int(input())):\n",
    "        name = input()\n",
    "        score = float(input())\n",
    "        studenti.append([name,score])\n",
    "\n",
    "studenti_2 = [x for x in studenti if x[1] != min(studenti, key=lambda x:x[1])[1]]\n",
    "studenti_3 = [x for x in studenti_2 if x[1] == min(studenti_2, key=lambda x:x[1])[1]]\n",
    "\n",
    "reslist = [z[0] for z in studenti_3]\n",
    "reslist.sort()\n",
    "for a in reslist:\n",
    "    print(a)"
   ]
  },
  {
   "cell_type": "code",
   "execution_count": null,
   "metadata": {},
   "outputs": [],
   "source": [
    "# Basic data types - Finding the percentage\n",
    "\n",
    "if __name__ == '__main__':\n",
    "    n = int(input())\n",
    "    student_marks = {}\n",
    "    for _ in range(n):\n",
    "        name, *line = input().split()\n",
    "        scores = list(map(float, line))\n",
    "        student_marks[name] = scores\n",
    "    query_name = input()\n",
    "\n",
    "a = sum(student_marks[query_name])/len(student_marks[query_name])\n",
    "print(\"{:.2f}\".format(a))"
   ]
  }
 ],
 "metadata": {
  "kernelspec": {
   "display_name": "Python 3.7.6 ('base')",
   "language": "python",
   "name": "python3"
  },
  "language_info": {
   "codemirror_mode": {
    "name": "ipython",
    "version": 3
   },
   "file_extension": ".py",
   "mimetype": "text/x-python",
   "name": "python",
   "nbconvert_exporter": "python",
   "pygments_lexer": "ipython3",
   "version": "3.7.6"
  },
  "orig_nbformat": 4,
  "vscode": {
   "interpreter": {
    "hash": "c0ab4154ee40358617dd1d7c938af2402256e3da3e37d1999364b07d6c716bb6"
   }
  }
 },
 "nbformat": 4,
 "nbformat_minor": 2
}
