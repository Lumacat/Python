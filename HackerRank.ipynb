{
 "cells": [
  {
   "cell_type": "code",
   "execution_count": null,
   "metadata": {},
   "outputs": [],
   "source": [
    "# Basic data types - List comprehension\n",
    "\n",
    "if __name__ == '__main__':\n",
    "    x = int(input())\n",
    "    y = int(input())\n",
    "    z = int(input())\n",
    "    n = int(input())\n",
    "giggino = [[i,j,k] for i in range(x+1) for j in range(y+1) for k in range(z+1) if i+j+k != n]\n",
    "print(giggino)"
   ]
  },
  {
   "cell_type": "code",
   "execution_count": null,
   "metadata": {},
   "outputs": [],
   "source": [
    "# Basic data types - Find the runner-up Score\n",
    "\n",
    "if __name__ == '__main__':\n",
    "    n = int(input())\n",
    "    arr = map(int, input().split())\n",
    "giggino = list(arr)\n",
    "giggetto = [x for x in giggino if x < max(giggino)]\n",
    "print(max(giggetto))"
   ]
  },
  {
   "cell_type": "code",
   "execution_count": null,
   "metadata": {},
   "outputs": [],
   "source": [
    "# Basic data types - Nested lists\n",
    "\n",
    "if __name__ == '__main__':\n",
    "    studenti = []\n",
    "    for _ in range(int(input())):\n",
    "        name = input()\n",
    "        score = float(input())\n",
    "        studenti.append([name,score])\n",
    "\n",
    "studenti_2 = [x for x in studenti if x[1] != min(studenti, key=lambda x:x[1])[1]]\n",
    "studenti_3 = [x for x in studenti_2 if x[1] == min(studenti_2, key=lambda x:x[1])[1]]\n",
    "\n",
    "reslist = [z[0] for z in studenti_3]\n",
    "reslist.sort()\n",
    "for a in reslist:\n",
    "    print(a)"
   ]
  },
  {
   "cell_type": "code",
   "execution_count": null,
   "metadata": {},
   "outputs": [],
   "source": [
    "# Basic data types - Finding the percentage\n",
    "\n",
    "if __name__ == '__main__':\n",
    "    n = int(input())\n",
    "    student_marks = {}\n",
    "    for _ in range(n):\n",
    "        name, *line = input().split()\n",
    "        scores = list(map(float, line))\n",
    "        student_marks[name] = scores\n",
    "    query_name = input()\n",
    "\n",
    "a = sum(student_marks[query_name])/len(student_marks[query_name])\n",
    "print(\"{:.2f}\".format(a))"
   ]
  },
  {
   "cell_type": "code",
   "execution_count": null,
   "metadata": {},
   "outputs": [],
   "source": [
    "# Basic data types - Tuples\n",
    "\n",
    "tuple_n = input()\n",
    "tuple_in = map(int, input().split())\n",
    "tuple_out = tuple(tuple_in)\n",
    "print(hash(tuple_out))"
   ]
  },
  {
   "cell_type": "code",
   "execution_count": null,
   "metadata": {},
   "outputs": [],
   "source": [
    "# Strings - sWAP cASE\n",
    "\n",
    "def swap_case(s):\n",
    "    swapped_str = ''\n",
    "    for x in s:\n",
    "        if x.islower() == True:\n",
    "            swapped_str += x.upper()\n",
    "        else:\n",
    "            swapped_str += x.lower()\n",
    "    return(swapped_str)\n",
    "\n",
    "if __name__ == '__main__':\n",
    "    s = input()\n",
    "    result = swap_case(s)\n",
    "    print(result)"
   ]
  },
  {
   "cell_type": "code",
   "execution_count": null,
   "metadata": {},
   "outputs": [],
   "source": [
    "# Strings - String Split and Join\n",
    "\n",
    "def split_and_join(line):\n",
    "    a = line\n",
    "    a = a.split(\" \")\n",
    "    a = \"-\".join(a)\n",
    "    return(a)\n",
    "\n",
    "if __name__ == '__main__':\n",
    "    line = input()\n",
    "    result = split_and_join(line)\n",
    "    print(result)"
   ]
  },
  {
   "cell_type": "code",
   "execution_count": null,
   "metadata": {},
   "outputs": [],
   "source": [
    "# Strings - What's your name?\n",
    "\n",
    "def print_full_name(first, last):\n",
    "    print('Hello '+first+' '+last+'! You just delved into python.')\n",
    "\n",
    "if __name__ == '__main__':\n",
    "    first_name = input()\n",
    "    last_name = input()\n",
    "    print_full_name(first_name, last_name)"
   ]
  },
  {
   "cell_type": "code",
   "execution_count": null,
   "metadata": {},
   "outputs": [],
   "source": [
    "# Strings - Mutations\n",
    "\n",
    "def mutate_string(string, position, character):\n",
    "    string_in = string\n",
    "    l = list(string_in)\n",
    "    l[position] = character\n",
    "    string_in = ''.join(l)\n",
    "    return(string_in)\n",
    "\n",
    "if __name__ == '__main__':\n",
    "    s = input()\n",
    "    i, c = input().split()\n",
    "    s_new = mutate_string(s, int(i), c)\n",
    "    print(s_new)"
   ]
  },
  {
   "cell_type": "code",
   "execution_count": null,
   "metadata": {},
   "outputs": [],
   "source": [
    "# Sets - Introduction to sets\n",
    "\n",
    "def average(array):\n",
    "    aver = sum(set(arr))/len(set(arr))\n",
    "    return(\"{:.3f}\".format(aver))\n",
    "\n",
    "if __name__ == '__main__':\n",
    "    n = int(input())\n",
    "    arr = list(map(int, input().split()))\n",
    "    result = average(arr)\n",
    "    print(result)"
   ]
  },
  {
   "cell_type": "code",
   "execution_count": null,
   "metadata": {},
   "outputs": [],
   "source": [
    "# Sets - Set.add()\n",
    "\n",
    "a = set()\n",
    "n = int(input())\n",
    "for x in range(n):\n",
    "    a.add(input())\n",
    "print(len(a))"
   ]
  },
  {
   "cell_type": "code",
   "execution_count": null,
   "metadata": {},
   "outputs": [],
   "source": [
    "# Sets - Set.symmetric_difference()\n",
    "\n",
    "n = int(input())\n",
    "a = set(input().split())\n",
    "\n",
    "n2 = int(input())\n",
    "b = set(input().split())\n",
    "\n",
    "print(len(a.symmetric_difference(b)))"
   ]
  },
  {
   "cell_type": "code",
   "execution_count": null,
   "metadata": {},
   "outputs": [],
   "source": [
    "# Sets - Set.difference()\n",
    "\n",
    "n = int(input())\n",
    "a = set(input().split())\n",
    "\n",
    "n2 = int(input())\n",
    "b = set(input().split())\n",
    "\n",
    "print(len(a.difference(b)))"
   ]
  }
 ],
 "metadata": {
  "kernelspec": {
   "display_name": "Python 3.7.6 ('base')",
   "language": "python",
   "name": "python3"
  },
  "language_info": {
   "codemirror_mode": {
    "name": "ipython",
    "version": 3
   },
   "file_extension": ".py",
   "mimetype": "text/x-python",
   "name": "python",
   "nbconvert_exporter": "python",
   "pygments_lexer": "ipython3",
   "version": "3.7.6"
  },
  "orig_nbformat": 4,
  "vscode": {
   "interpreter": {
    "hash": "c0ab4154ee40358617dd1d7c938af2402256e3da3e37d1999364b07d6c716bb6"
   }
  }
 },
 "nbformat": 4,
 "nbformat_minor": 2
}
