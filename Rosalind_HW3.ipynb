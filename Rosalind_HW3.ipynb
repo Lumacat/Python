{
 "cells": [
  {
   "cell_type": "code",
   "execution_count": null,
   "metadata": {},
   "outputs": [],
   "source": [
    "# Rosalind / DNA\n",
    "\n",
    "with open('/Users/Shared/Rosalind/rosalind_dna.txt', 'r') as my_file:\n",
    "    s = my_file.read()\n",
    "    print(str(s.count('A')) + ' ' + str(s.count('C')) + ' ' + str(s.count('G')) + ' ' + str(s.count('T')))"
   ]
  },
  {
   "cell_type": "code",
   "execution_count": null,
   "metadata": {},
   "outputs": [],
   "source": [
    "# Rosalind / RNA\n",
    "\n",
    "with open('/Users/Shared/Rosalind/rosalind_rna.txt', 'r') as my_file:\n",
    "    s = my_file.read()\n",
    "    print(s.replace('T', 'U'))"
   ]
  },
  {
   "cell_type": "code",
   "execution_count": null,
   "metadata": {},
   "outputs": [],
   "source": [
    "# Rosalind / REVC\n",
    "\n",
    "with open('/Users/Shared/Rosalind/rosalind_revc.txt', 'r') as my_file:\n",
    "    s = my_file.read()[::-1]\n",
    "    dna_comp = {'A': 'T', 'C': 'G', 'G': 'C', 'T': 'A'}\n",
    "    print(''.join([dna_comp[x] for x in s if x in dna_comp]))"
   ]
  },
  {
   "cell_type": "code",
   "execution_count": null,
   "metadata": {},
   "outputs": [],
   "source": [
    "# Rosalind / IPRB\n",
    "\n",
    "with open('/Users/Shared/Rosalind/rosalind_iprb.txt', 'r') as my_file:\n",
    "    s = list(map(int, my_file.read().split()))\n",
    "    k, m, n = s[0], s[1], s[2]\n",
    "    \n",
    "hom_d, het, hom_r, par, sons = 'HH', 'Hr', 'rr', [], []\n",
    "\n",
    "par = [hom_d for i in range(k)] + [het for i in range(m)] + [hom_r for i in range(n)]\n",
    "\n",
    "for i in range(len(par)):\n",
    "    for j in range(len(par)):\n",
    "        if j == i:\n",
    "            pass\n",
    "        else:\n",
    "            sons += [par[i][0]+par[j][0]] + [par[i][0]+par[j][1]] + [par[i][1]+par[j][0]] + [par[i][1]+par[j][1]]\n",
    "\n",
    "print((sons.count('HH') + sons.count('Hr')+ sons.count('rH')) / len(sons))"
   ]
  }
 ],
 "metadata": {
  "kernelspec": {
   "display_name": "Python 3.10.0 64-bit",
   "language": "python",
   "name": "python3"
  },
  "language_info": {
   "name": "python",
   "version": "3.10.0"
  },
  "orig_nbformat": 4,
  "vscode": {
   "interpreter": {
    "hash": "aee8b7b246df8f9039afb4144a1f6fd8d2ca17a180786b69acc140d282b71a49"
   }
  }
 },
 "nbformat": 4,
 "nbformat_minor": 2
}
