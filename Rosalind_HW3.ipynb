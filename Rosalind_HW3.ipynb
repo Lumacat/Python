{
 "cells": [
  {
   "cell_type": "code",
   "execution_count": null,
   "metadata": {},
   "outputs": [],
   "source": [
    "# Rosalind / DNA\n",
    "\n",
    "with open('/Users/Shared/Rosalind/rosalind_dna.txt', 'r') as my_file:\n",
    "    lines = my_file.read()\n",
    "    print(str(lines.count('A')) + ' ' + str(lines.count('C')) + ' ' + str(lines.count('G')) + ' ' + str(lines.count('T')))"
   ]
  },
  {
   "cell_type": "code",
   "execution_count": null,
   "metadata": {},
   "outputs": [],
   "source": [
    "# Rosalind / RNA\n",
    "\n",
    "with open('/Users/Shared/Rosalind/rosalind_rna.txt', 'r') as my_file:\n",
    "    lines = my_file.read()\n",
    "    print(lines.replace('T', 'U'))"
   ]
  },
  {
   "cell_type": "code",
   "execution_count": null,
   "metadata": {},
   "outputs": [],
   "source": [
    "# Rosalind / REVC\n",
    "\n",
    "with open('/Users/Shared/Rosalind/rosalind_revc.txt', 'r') as my_file:\n",
    "    s = my_file.read()[::-1]\n",
    "    dna_comp = {'A': 'T', 'C': 'G', 'G': 'C', 'T': 'A'}\n",
    "    print(''.join([dna_comp[x] for x in s if x in dna_comp]))"
   ]
  }
 ],
 "metadata": {
  "kernelspec": {
   "display_name": "Python 3.10.0 64-bit",
   "language": "python",
   "name": "python3"
  },
  "language_info": {
   "name": "python",
   "version": "3.10.0"
  },
  "orig_nbformat": 4,
  "vscode": {
   "interpreter": {
    "hash": "aee8b7b246df8f9039afb4144a1f6fd8d2ca17a180786b69acc140d282b71a49"
   }
  }
 },
 "nbformat": 4,
 "nbformat_minor": 2
}
