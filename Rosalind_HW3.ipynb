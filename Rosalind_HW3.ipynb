{
 "cells": [
  {
   "cell_type": "code",
   "execution_count": null,
   "metadata": {},
   "outputs": [],
   "source": [
    "# Rosalind / DNA\n",
    "\n",
    "with open('/Users/Shared/Rosalind/rosalind_dna.txt', 'r') as my_file:\n",
    "    s = my_file.read()\n",
    "    print(str(s.count('A')) + ' ' + str(s.count('C')) + ' ' + str(s.count('G')) + ' ' + str(s.count('T')))"
   ]
  },
  {
   "cell_type": "code",
   "execution_count": null,
   "metadata": {},
   "outputs": [],
   "source": [
    "# Rosalind / RNA\n",
    "\n",
    "with open('/Users/Shared/Rosalind/rosalind_rna.txt', 'r') as my_file:\n",
    "    s = my_file.read()\n",
    "    print(s.replace('T', 'U'))"
   ]
  },
  {
   "cell_type": "code",
   "execution_count": null,
   "metadata": {},
   "outputs": [],
   "source": [
    "# Rosalind / REVC\n",
    "\n",
    "with open('/Users/Shared/Rosalind/rosalind_revc.txt', 'r') as my_file:\n",
    "    s = my_file.read()[::-1]\n",
    "    dna_comp = {'A': 'T', 'C': 'G', 'G': 'C', 'T': 'A'}\n",
    "    print(''.join([dna_comp[x] for x in s if x in dna_comp]))"
   ]
  },
  {
   "cell_type": "code",
   "execution_count": null,
   "metadata": {},
   "outputs": [],
   "source": [
    "# Rosalind / IPRB\n",
    "\n",
    "with open('/Users/Shared/Rosalind/rosalind_iprb.txt', 'r') as my_file:\n",
    "    s = list(map(int, my_file.read().split()))\n",
    "    k, m, n = s[0], s[1], s[2]\n",
    "    \n",
    "hom_d, het, hom_r, par, sons = 'HH', 'Hr', 'rr', [], []\n",
    "\n",
    "par = [hom_d for i in range(k)] + [het for i in range(m)] + [hom_r for i in range(n)]\n",
    "\n",
    "for i in range(len(par)):\n",
    "    for j in range(len(par)):\n",
    "        if j == i:\n",
    "            pass\n",
    "        else:\n",
    "            sons += [par[i][0]+par[j][0]] + [par[i][0]+par[j][1]] + [par[i][1]+par[j][0]] + [par[i][1]+par[j][1]]\n",
    "\n",
    "print((sons.count('HH') + sons.count('Hr')+ sons.count('rH')) / len(sons))"
   ]
  },
  {
   "cell_type": "code",
   "execution_count": null,
   "metadata": {},
   "outputs": [],
   "source": [
    "#Rosalind / GC\n",
    "\n",
    "with open('/Users/Shared/Rosalind/rosalind_gc.txt', 'r') as my_file:\n",
    "    s = my_file.read().replace('\\n', '')\n",
    "    l = s.split('>Rosalind_')[1:]\n",
    "    \n",
    "    CG_per = 0\n",
    "    sid = ''\n",
    "\n",
    "    for x in l:\n",
    "        C,G,T,A = x.count('C'),x.count('G'),x.count('T'),x.count('A')\n",
    "        if (C + G) / (C + G + A + T) > CG_per:\n",
    "            CG_per = (C + G) / (C + G + A + T) * 100\n",
    "            sid = 'Rosalind_' + x[:4]\n",
    "\n",
    "    print(sid)\n",
    "    print(\"%.6f\" % CG_per)"
   ]
  },
  {
   "cell_type": "code",
   "execution_count": null,
   "metadata": {},
   "outputs": [],
   "source": [
    "# Rosalind / SUBS\n",
    "\n",
    "with open('/Users/Shared/Rosalind/rosalind_subs.txt', 'r') as my_file:\n",
    "    s = my_file.read().split()\n",
    "    l = [i+1 for i in range (len(s[0])-len(s[1])) if s[1] == s[0][i:i+(len(s[1]))]]\n",
    "    print(*l)"
   ]
  },
  {
   "cell_type": "code",
   "execution_count": null,
   "metadata": {},
   "outputs": [],
   "source": [
    "# Rosalidn / LIA\n",
    "\n",
    "import math\n",
    "with open('/Users/Shared/Rosalind/rosalind_lia.txt', 'r') as my_file:\n",
    "    l = list(map(int,my_file.read().split()))\n",
    "    \n",
    "    gen = l[0]\n",
    "    N = l[1]\n",
    "    par_1 = ['AaBb']\n",
    "    par_2 = ['AaBb']\n",
    "    par = par_1 + par_2\n",
    "    sons = []\n",
    "\n",
    "    for j in range(gen):\n",
    "        for i in range(len(par)):\n",
    "            for x in range(0,2):\n",
    "                for y in range(0,2):\n",
    "                    for m in range(2,4):\n",
    "                        for n in range(2,4):\n",
    "                            if j == i:\n",
    "                                pass\n",
    "                            else:\n",
    "                                sons += [par[i][x]+par_2[0][y]+par[i][m]+par_2[0][n]]\n",
    "        par = sons\n",
    "\n",
    "    c = 0\n",
    "    for x in sons:\n",
    "        if x.count('A') == 1 and x.count('B') == 1:\n",
    "            c += 1\n",
    "    p = c / len(sons)\n",
    "\n",
    "    p_tot = 0\n",
    "    k2 = 2**gen\n",
    "    for i in range(N,(k2+1)):\n",
    "        p_tot += ((math.factorial(k2)/math.factorial(i)/math.factorial(k2-i)) \\\n",
    "                  *(p**i)*((1-p)**(k2-i)))\n",
    "\n",
    "    print(p_tot)"
   ]
  }
 ],
 "metadata": {
  "kernelspec": {
   "display_name": "Python 3.10.0 64-bit",
   "language": "python",
   "name": "python3"
  },
  "language_info": {
   "codemirror_mode": {
    "name": "ipython",
    "version": 3
   },
   "file_extension": ".py",
   "mimetype": "text/x-python",
   "name": "python",
   "nbconvert_exporter": "python",
   "pygments_lexer": "ipython3",
   "version": "3.10.0"
  },
  "orig_nbformat": 4,
  "vscode": {
   "interpreter": {
    "hash": "aee8b7b246df8f9039afb4144a1f6fd8d2ca17a180786b69acc140d282b71a49"
   }
  }
 },
 "nbformat": 4,
 "nbformat_minor": 2
}
